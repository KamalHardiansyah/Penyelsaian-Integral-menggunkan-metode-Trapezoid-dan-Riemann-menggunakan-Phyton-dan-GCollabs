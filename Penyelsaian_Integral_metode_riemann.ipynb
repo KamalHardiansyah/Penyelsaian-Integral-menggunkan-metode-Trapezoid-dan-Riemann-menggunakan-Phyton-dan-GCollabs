{
  "nbformat": 4,
  "nbformat_minor": 0,
  "metadata": {
    "colab": {
      "provenance": []
    },
    "kernelspec": {
      "name": "python3",
      "display_name": "Python 3"
    },
    "language_info": {
      "name": "python"
    }
  },
  "cells": [
    {
      "cell_type": "code",
      "source": [
        "#Penyelesaian Integral Metode Riemann\n",
        "#n=10\n",
        "\n",
        "import numpy as p\n",
        "import matplotlib.pyplot as plt\n",
        "def func(x):\n",
        "    return (x**2)*p.exp(-x)\n",
        "a = 1.0\n",
        "b = 10.0\n",
        "n = 10\n",
        "'''\n",
        "#trapezoid\n",
        "dx = (b-a)/(n-1)\n",
        "x = np.linspace(a,b,n)\n",
        "sigma = 0\n",
        "for i in range (1, n-1):\n",
        "sigma += func(x[i])\n",
        "hasil = 0.5*dx*(func(x[0])+2*sigma+func(x[-1]))\n",
        "print (hasil)\n",
        "\n",
        "xp =np.linsace(a,b)\n",
        "plt.plot(xp,func(xp))\n",
        "\n",
        "for i in range (n):\n",
        "    plt.bar(x[i],func(x[i]), align = 'edge',width = 0.000001, color = 'gray', edgecolor = 'red')\n",
        "\n",
        "plt.fill_between(x,func(x),color= 'yellow')\n",
        "\n",
        "plt.show()\n",
        "'''\n",
        "#Riemann\n",
        "x = p.linspace(a,b,n)\n",
        "dx = (x[-1]-x[0])/(n-1)\n",
        "\n",
        "hasil = 0\n",
        "\n",
        "for i in range(n-1):\n",
        "    hasil += dx*func(x[i])\n",
        "\n",
        "xp =p.linspace(a,b)\n",
        "plt.plot(xp,func(xp))\n",
        "for i in range (n-1):\n",
        "    plt.bar(x[i],func(x[i]), align = 'edge', width=dx, color ='orange', edgecolor='black')\n",
        "plt.show()\n",
        "print (hasil)"
      ],
      "metadata": {
        "colab": {
          "base_uri": "https://localhost:8080/",
          "height": 282
        },
        "id": "QZ_XdQAFVbmP",
        "outputId": "ff0ceded-d033-4af9-b4bc-088bf27352f9"
      },
      "execution_count": 7,
      "outputs": [
        {
          "output_type": "display_data",
          "data": {
            "text/plain": [
              "<Figure size 432x288 with 1 Axes>"
            ],
            "image/png": "[encoded data removed]"
          },
          "metadata": {
            "needs_background": "light"
          }
        },
        {
          "output_type": "stream",
          "name": "stdout",
          "text": [
            "1.9841861836144943\n"
          ]
        }
      ]
    },
    {
      "cell_type": "code",
      "source": [
        "#Penyelesaian Integral Metode Riemann\n",
        "#n=100\n",
        "\n",
        "import numpy as p\n",
        "import matplotlib.pyplot as plt\n",
        "def func(x):\n",
        "    return (x**2)*p.exp(-x)\n",
        "a = 1.0\n",
        "b = 10.0\n",
        "n = 100\n",
        "'''\n",
        "#trapezoid\n",
        "dx = (b-a)/(n-1)\n",
        "x = np.linspace(a,b,n)\n",
        "sigma = 0\n",
        "for i in range (1, n-1):\n",
        "sigma += func(x[i])\n",
        "hasil = 0.5*dx*(func(x[0])+2*sigma+func(x[-1]))\n",
        "print (hasil)\n",
        "\n",
        "xp =np.linsace(a,b)\n",
        "plt.plot(xp,func(xp))\n",
        "\n",
        "for i in range (n):\n",
        "    plt.bar(x[i],func(x[i]), align = 'edge',width = 0.000001, color = 'gray', edgecolor = 'red')\n",
        "\n",
        "plt.fill_between(x,func(x),color= 'yellow')\n",
        "\n",
        "plt.show()\n",
        "'''\n",
        "#Reiman\n",
        "x = p.linspace(a,b,n)\n",
        "dx = (x[-1]-x[0])/(n-1)\n",
        "\n",
        "hasil = 0\n",
        "\n",
        "for i in range(n-1):\n",
        "    hasil += dx*func(x[i])\n",
        "\n",
        "xp =p.linspace(a,b)\n",
        "plt.plot(xp,func(xp))\n",
        "for i in range (n-1):\n",
        "    plt.bar(x[i],func(x[i]), align = 'edge', width=dx, color ='orange', edgecolor='black')\n",
        "plt.show()\n",
        "print (hasil)"
      ],
      "metadata": {
        "colab": {
          "base_uri": "https://localhost:8080/",
          "height": 282
        },
        "id": "RSugrGMKWfc8",
        "outputId": "f96a1c89-caae-41a5-f4eb-d436c79e7f3e"
      },
      "execution_count": 8,
      "outputs": [
        {
          "output_type": "display_data",
          "data": {
            "text/plain": [
              "<Figure size 432x288 with 1 Axes>"
            ],
            "image/png": "[encoded data removed]"
          },
          "metadata": {
            "needs_background": "light"
          }
        },
        {
          "output_type": "stream",
          "name": "stdout",
          "text": [
            "1.8501179473948413\n"
          ]
        }
      ]
    },
    {
      "cell_type": "code",
      "source": [
        "#Penyelesaian Integral Metode Riemann\n",
        "#n=1000\n",
        "\n",
        "import numpy as p\n",
        "import matplotlib.pyplot as plt\n",
        "def func(x):\n",
        "    return (x**2)*p.exp(-x)\n",
        "a = 1.0\n",
        "b = 10.0\n",
        "n = 1000\n",
        "'''\n",
        "#trapezoid\n",
        "dx = (b-a)/(n-1)\n",
        "x = np.linspace(a,b,n)\n",
        "sigma = 0\n",
        "for i in range (1, n-1):\n",
        "sigma += func(x[i])\n",
        "hasil = 0.5*dx*(func(x[0])+2*sigma+func(x[-1]))\n",
        "print (hasil)\n",
        "\n",
        "xp =np.linsace(a,b)\n",
        "plt.plot(xp,func(xp))\n",
        "\n",
        "for i in range (n):\n",
        "    plt.bar(x[i],func(x[i]), align = 'edge',width = 0.000001, color = 'gray', edgecolor = 'red')\n",
        "\n",
        "plt.fill_between(x,func(x),color= 'yellow')\n",
        "\n",
        "plt.show()\n",
        "'''\n",
        "#Reiman\n",
        "x = p.linspace(a,b,n)\n",
        "dx = (x[-1]-x[0])/(n-1)\n",
        "\n",
        "hasil = 0\n",
        "\n",
        "for i in range(n-1):\n",
        "    hasil += dx*func(x[i])\n",
        "\n",
        "xp =p.linspace(a,b)\n",
        "plt.plot(xp,func(xp))\n",
        "for i in range (n-1):\n",
        "    plt.bar(x[i],func(x[i]), align = 'edge', width=dx, color ='orange', edgecolor='black')\n",
        "plt.show()\n",
        "print (hasil)"
      ],
      "metadata": {
        "colab": {
          "base_uri": "https://localhost:8080/",
          "height": 282
        },
        "id": "zEw8dxzPWsbY",
        "outputId": "0254525a-8e3f-4b1e-8b97-56b5e6bb4af4"
      },
      "execution_count": 9,
      "outputs": [
        {
          "output_type": "display_data",
          "data": {
            "text/plain": [
              "<Figure size 432x288 with 1 Axes>"
            ],
            "image/png": "[encoded data removed]"
          },
          "metadata": {
            "needs_background": "light"
          }
        },
        {
          "output_type": "stream",
          "name": "stdout",
          "text": [
            "1.8354925658787735\n"
          ]
        }
      ]
    }
  ]
}
